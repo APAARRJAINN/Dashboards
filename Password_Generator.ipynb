{
  "nbformat": 4,
  "nbformat_minor": 0,
  "metadata": {
    "colab": {
      "provenance": []
    },
    "kernelspec": {
      "name": "python3",
      "display_name": "Python 3"
    },
    "language_info": {
      "name": "python"
    }
  },
  "cells": [
    {
      "cell_type": "code",
      "execution_count": 1,
      "metadata": {
        "id": "8PJtWheQxFTq"
      },
      "outputs": [],
      "source": [
        "import random\n",
        "import string\n"
      ]
    },
    {
      "cell_type": "code",
      "source": [
        "def generate_password(length: int=10):\n",
        "  alphabet=string.ascii_letters+string.digits+string.punctuation\n",
        "  password=\"\".join(random.choice(alphabet)for i in range(length))\n",
        "  return password"
      ],
      "metadata": {
        "id": "v9D9mb-kxUHC"
      },
      "execution_count": 3,
      "outputs": []
    },
    {
      "cell_type": "code",
      "source": [
        "password=generate_password()\n",
        "print(f\"Generated Password: {password}\")"
      ],
      "metadata": {
        "colab": {
          "base_uri": "https://localhost:8080/"
        },
        "id": "as7LRmMrxyok",
        "outputId": "6236b477-ad59-49ad-ce1a-5506591683ee"
      },
      "execution_count": 7,
      "outputs": [
        {
          "output_type": "stream",
          "name": "stdout",
          "text": [
            "Generated Password: u9^.?>!zP2\n"
          ]
        }
      ]
    },
    {
      "cell_type": "code",
      "source": [],
      "metadata": {
        "id": "vFHNlH6XyFps"
      },
      "execution_count": null,
      "outputs": []
    }
  ]
}