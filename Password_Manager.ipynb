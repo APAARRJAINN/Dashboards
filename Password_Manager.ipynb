{
  "nbformat": 4,
  "nbformat_minor": 0,
  "metadata": {
    "colab": {
      "provenance": []
    },
    "kernelspec": {
      "name": "python3",
      "display_name": "Python 3"
    },
    "language_info": {
      "name": "python"
    }
  },
  "cells": [
    {
      "cell_type": "code",
      "execution_count": 13,
      "metadata": {
        "id": "lRgJb4LnyaPy"
      },
      "outputs": [],
      "source": [
        "import hashlib\n",
        "import getpass"
      ]
    },
    {
      "cell_type": "code",
      "source": [
        "password_manager={}"
      ],
      "metadata": {
        "id": "Li-jNdjqyl2I"
      },
      "execution_count": 14,
      "outputs": []
    },
    {
      "cell_type": "code",
      "source": [
        "def create_account():\n",
        "  username=input(\"Enter Your Desired Username: \")\n",
        "  password=getpass.getpass(\"Enter Your Desired Password: \")\n",
        "  hashed_password=hashlib.sha256(password.encode()).hexdigest()\n",
        "  password_manager[username]= hashed_password\n",
        "  print(\"Account Created Successfully!!\")"
      ],
      "metadata": {
        "id": "IDIUVXkBy0TB"
      },
      "execution_count": 15,
      "outputs": []
    },
    {
      "cell_type": "code",
      "source": [
        "def login():\n",
        "  username=input(\"Enter Your Username: \")\n",
        "  password=getpass.getpass(\"Enter Your Passsword: \")\n",
        "  hashed_password=hashlib.sha256(password.encode()).hexdigest()\n",
        "  if username in password_manager.keys() and password_manager[username]==hashed_password:\n",
        "    print(\"Login Successful\")\n",
        "  else:\n",
        "    print(\"Invalid Username or Password\")"
      ],
      "metadata": {
        "id": "56X0dDtxzxHG"
      },
      "execution_count": 16,
      "outputs": []
    },
    {
      "cell_type": "code",
      "source": [
        "def main():\n",
        "  while True:\n",
        "    choice=input(\"Enter 1 To Create Account, 2 To Login or 0 To Exit: \")\n",
        "    if choice==\"1\":\n",
        "      create_account()\n",
        "    elif choice==\"2\":\n",
        "      login()\n",
        "    elif choice==\"0\":\n",
        "      break\n",
        "    else:\n",
        "      print(\"Invalid Choice.\")"
      ],
      "metadata": {
        "id": "RbPtwy-05GTl"
      },
      "execution_count": 17,
      "outputs": []
    },
    {
      "cell_type": "code",
      "source": [
        "if __name__==\"__main__\":\n",
        "  main()"
      ],
      "metadata": {
        "colab": {
          "base_uri": "https://localhost:8080/"
        },
        "id": "km2THKrA6K2I",
        "outputId": "6d645b71-811c-4734-a809-26cc2cd3935b"
      },
      "execution_count": null,
      "outputs": [
        {
          "output_type": "stream",
          "name": "stdout",
          "text": [
            "Enter 1 To Create Account, 2 To Login or 0 To Exit: 1\n",
            "Enter Your Desired Username: AJ\n",
            "Enter Your Desired Password: ··········\n",
            "Account Created Successfully!!\n",
            "Enter 1 To Create Account, 2 To Login or 0 To Exit: 2\n",
            "Enter Your Username: AJ\n",
            "Enter Your Passsword: ··········\n",
            "Login Successful\n"
          ]
        }
      ]
    },
    {
      "cell_type": "code",
      "source": [],
      "metadata": {
        "id": "1jAL5Ikq7MpQ"
      },
      "execution_count": null,
      "outputs": []
    }
  ]
}