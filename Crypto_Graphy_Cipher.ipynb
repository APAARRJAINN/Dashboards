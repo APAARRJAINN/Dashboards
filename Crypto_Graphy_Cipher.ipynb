{
  "nbformat": 4,
  "nbformat_minor": 0,
  "metadata": {
    "colab": {
      "provenance": []
    },
    "kernelspec": {
      "name": "python3",
      "display_name": "Python 3"
    },
    "language_info": {
      "name": "python"
    }
  },
  "cells": [
    {
      "cell_type": "markdown",
      "source": [
        "**Ceaser Cipher is basically a term used in cryptography for an encryption technique invented by Julius Ceaser to send his private messages. It is effectively substituting plain text layer with a ciphertext layer.**"
      ],
      "metadata": {
        "id": "reFvZgpUBqEL"
      }
    },
    {
      "cell_type": "code",
      "source": [
        "import string"
      ],
      "metadata": {
        "id": "gra1rhFfBsJF"
      },
      "execution_count": 9,
      "outputs": []
    },
    {
      "cell_type": "code",
      "source": [
        "def ceaser_encrypt(message,key):\n",
        "\n",
        "  shift=key%26\n",
        "  cipher=str.maketrans(string.ascii_lowercase,string.ascii_lowercase[shift:]+string.ascii_lowercase[:shift])\n",
        "\n",
        "  encrypted_message=message.lower().translate(cipher)\n",
        "\n",
        "  return encrypted_message"
      ],
      "metadata": {
        "id": "9bu5YzZNDG7Z"
      },
      "execution_count": 14,
      "outputs": []
    },
    {
      "cell_type": "code",
      "source": [
        "def ceaser_decrypt(encrypted_message,key):\n",
        "\n",
        "  shift=26-(key%26)\n",
        "  cipher=str.maketrans(string.ascii_lowercase,string.ascii_lowercase[shift:]+string.ascii_lowercase[:shift])\n",
        "\n",
        "  message=encrypted_message.translate(cipher)\n",
        "  return message"
      ],
      "metadata": {
        "id": "efYyE1mrQ5Mj"
      },
      "execution_count": 15,
      "outputs": []
    },
    {
      "cell_type": "code",
      "source": [
        "message=\"You Only Live Once\"\n",
        "key=3"
      ],
      "metadata": {
        "id": "N4qcmaYPRqYk"
      },
      "execution_count": 16,
      "outputs": []
    },
    {
      "cell_type": "code",
      "source": [
        "encrypted_message=ceaser_encrypt(message,key)\n",
        "print(f\"Encrypted Message: {encrypted_message}\")"
      ],
      "metadata": {
        "colab": {
          "base_uri": "https://localhost:8080/"
        },
        "id": "GOrrV7FLSCbv",
        "outputId": "7aaaf1d1-1f68-449d-999c-1b6d92a9e621"
      },
      "execution_count": 17,
      "outputs": [
        {
          "output_type": "stream",
          "name": "stdout",
          "text": [
            "Encrypted Message: brx rqob olyh rqfh\n"
          ]
        }
      ]
    },
    {
      "cell_type": "code",
      "source": [
        "decrypt_message=ceaser_decrypt(encrypted_message,key)\n",
        "print(f\"Decrypted Message: {decrypt_message}\")"
      ],
      "metadata": {
        "colab": {
          "base_uri": "https://localhost:8080/"
        },
        "id": "q7GRwrk6SXjw",
        "outputId": "a4750428-ff69-460d-dfd1-7b8ac4c47a1d"
      },
      "execution_count": 18,
      "outputs": [
        {
          "output_type": "stream",
          "name": "stdout",
          "text": [
            "Decrypted Message: you only live once\n"
          ]
        }
      ]
    },
    {
      "cell_type": "code",
      "source": [],
      "metadata": {
        "id": "S6HXR5lfTQEa"
      },
      "execution_count": null,
      "outputs": []
    }
  ]
}